{
 "cells": [
  {
   "cell_type": "code",
   "execution_count": 2,
   "metadata": {
    "collapsed": true
   },
   "outputs": [],
   "source": [
    "import numpy as np\n",
    "import pandas as pd\n",
    "from sklearn.cluster import KMeans\n",
    "from scipy.spatial.distance import cdist\n",
    "import matplotlib.pyplot as plt"
   ]
  },
  {
   "cell_type": "raw",
   "metadata": {},
   "source": [
    "x <- data.frame(X=rnorm(100, sd=0.3), Y=rnorm(100, mean=1, sd=0.3))\n",
    "\n",
    "k <- kmeans(x, 2) \n",
    "names(k)\n",
    "x <- data.frame(x, K=k$cluster)\n",
    "\n",
    "# You can also directly return the clusters"
   ]
  },
  {
   "cell_type": "code",
   "execution_count": 3,
   "metadata": {
    "collapsed": true
   },
   "outputs": [],
   "source": [
    "cluster1 = np.random.uniform(0.5, 1.5, (2, 10))\n",
    "cluster2 = np.random.uniform(3.5, 4.5, (2, 10))"
   ]
  },
  {
   "cell_type": "code",
   "execution_count": 4,
   "metadata": {},
   "outputs": [
    {
     "data": {
      "image/png": "[encoded data removed]",
      "text/plain": [
       "<matplotlib.figure.Figure at 0x112abba20>"
      ]
     },
     "metadata": {},
     "output_type": "display_data"
    }
   ],
   "source": [
    "X = np.hstack((cluster1, cluster2)).T\n",
    "#X = np.vstack((x, y)).T\n",
    "K = range(1, 8)\n",
    "meandistortions = []\n",
    "for k in K:\n",
    "    kmeans = KMeans(n_clusters=k)\n",
    "    kmeans.fit(X)\n",
    "    meandistortions.append(sum(np.min(cdist(X, kmeans.cluster_centers_, 'euclidean'), axis=1)) / X.shape[0])\n",
    "plt.plot(K, meandistortions, 'bx-')\n",
    "plt.xlabel('k')\n",
    "plt.ylabel('Average distortion')\n",
    "plt.title('Selecting k with the Elbow Method')\n",
    "plt.show()\n",
    "\n"
   ]
  },
  {
   "cell_type": "code",
   "execution_count": 5,
   "metadata": {
    "collapsed": true
   },
   "outputs": [],
   "source": [
    "?kmeans.n_clusters"
   ]
  },
  {
   "cell_type": "code",
   "execution_count": null,
   "metadata": {
    "collapsed": true
   },
   "outputs": [],
   "source": []
  },
  {
   "cell_type": "code",
   "execution_count": null,
   "metadata": {
    "collapsed": true
   },
   "outputs": [],
   "source": []
  },
  {
   "cell_type": "code",
   "execution_count": 5,
   "metadata": {
    "collapsed": true
   },
   "outputs": [],
   "source": [
    "def read(obj,key):\n",
    "    collect = list()\n",
    "    for k in obj:\n",
    "        v = obj[k]\n",
    "        if isinstance(v,dict):\n",
    "            collect.extend(read(v,k))\n",
    "        elif isinstance(v,list):\n",
    "            if key=='':\n",
    "                collect.extend(readList(v,k))\n",
    "            else:\n",
    "                collect.extend(readList(v,key+\".\"+k))\n",
    "        else:\n",
    "            if key=='':\n",
    "                collect.append({k:v})\n",
    "            else:\n",
    "                collect.append({str(key)+\".\"+k:v})\n",
    "    return collect\n",
    "    \n",
    "def readList(obj,key):\n",
    "    collect = list()\n",
    "    for index,item in enumerate(obj):\n",
    "        for k in item:\n",
    "            v = item[k]\n",
    "            if isinstance(v,dict):\n",
    "                collect.extend(read(v,key+\"[\"+str(index)+\"]\"))\n",
    "            elif isinstance(v,list):\n",
    "                collect.extend(readList(v,key+\"[\"+str(index)+\"]\"))\n",
    "            else:\n",
    "                collect.append({key+\"[\"+str(index)+\"]\"+\".\"+k:v})\n",
    "    return collect"
   ]
  },
  {
   "cell_type": "code",
   "execution_count": 6,
   "metadata": {},
   "outputs": [
    {
     "name": "stdout",
     "output_type": "stream",
     "text": [
      "[{'num': 1}, {'boo': True}, {'obj.sex': 'boy'}, {'obj.age': 20}, {'result[0].name': 'saas'}, {'result[0][0].name': 'english'}, {'result[0][0].mark': 99}, {'result[0].id': '336efba7-259d-4057-ae1e-679e81419cd7'}, {'result[0].module': 'life'}]\n"
     ]
    },
    {
     "data": {
      "text/plain": [
       "[{'num': 1},\n",
       " {'obj.age': 20},\n",
       " {'obj.sex': 'boy'},\n",
       " {'[0].module': 'life'},\n",
       " {'[0].name': 'saas'},\n",
       " {'[0][0].name': 'english'},\n",
       " {'[0][0].mark': 99},\n",
       " {'[0].id': '336efba7-259d-4057-ae1e-679e81419cd7'},\n",
       " {'boo': True}]"
      ]
     },
     "execution_count": 6,
     "metadata": {},
     "output_type": "execute_result"
    }
   ],
   "source": [
    "import json\n",
    "\n",
    "jsonStr = '{\"num\":1,\"boo\":true,\"obj\":{\"sex\":\"boy\",\"age\":20},\"result\":[{\"name\":\"saas\",\"leverl\":[{\"name\":\"english\",\"mark\":99}],\"id\":\"336efba7-259d-4057-ae1e-679e81419cd7\",\"module\":\"life\"}]}'\n",
    "\n",
    "ojt = json.loads(jsonStr)\n",
    "print(read(ojt,''))\n",
    "\n",
    "#输出结果\n",
    "[{u'num': 1}, {u'obj.age': 20}, {u'obj.sex': u'boy'}, {u'[0].module': u'life'}, {u'[0].name': u'saas'}, {u'[0][0].name': u'english'}, {u'[0][0].mark': 99}, {u'[0].id': u'336efba7-259d-4057-ae1e-679e81419cd7'}, {u'boo': True}]\n"
   ]
  },
  {
   "cell_type": "code",
   "execution_count": null,
   "metadata": {
    "collapsed": true
   },
   "outputs": [],
   "source": []
  },
  {
   "cell_type": "code",
   "execution_count": 6,
   "metadata": {
    "collapsed": true
   },
   "outputs": [],
   "source": [
    "import pickle"
   ]
  },
  {
   "cell_type": "code",
   "execution_count": 8,
   "metadata": {
    "collapsed": true
   },
   "outputs": [],
   "source": [
    "filename = 'training_model.sav'"
   ]
  },
  {
   "cell_type": "code",
   "execution_count": null,
   "metadata": {
    "collapsed": true
   },
   "outputs": [],
   "source": []
  },
  {
   "cell_type": "code",
   "execution_count": null,
   "metadata": {
    "collapsed": true
   },
   "outputs": [],
   "source": [
    "loaded_model = pickle.load(open(filename, 'rb'))\n",
    "result = loaded_model.score(X_test, )"
   ]
  },
  {
   "cell_type": "code",
   "execution_count": null,
   "metadata": {
    "collapsed": true
   },
   "outputs": [],
   "source": [
    "loaded_model = pickle.load(open(filename, 'rb'))\n",
    "result = loaded_model.score(X_test, Y_test)\n",
    "print(result)"
   ]
  },
  {
   "cell_type": "code",
   "execution_count": null,
   "metadata": {
    "collapsed": true
   },
   "outputs": [],
   "source": [
    "df.set_index('ID').T.to_dict('list')"
   ]
  }
 ],
 "metadata": {
  "kernelspec": {
   "display_name": "Python 3",
   "language": "python",
   "name": "python3"
  },
  "language_info": {
   "codemirror_mode": {
    "name": "ipython",
    "version": 3
   },
   "file_extension": ".py",
   "mimetype": "text/x-python",
   "name": "python",
   "nbconvert_exporter": "python",
   "pygments_lexer": "ipython3",
   "version": "3.6.2"
  }
 },
 "nbformat": 4,
 "nbformat_minor": 2
}
